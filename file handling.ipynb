{
 "cells": [
  {
   "cell_type": "markdown",
   "id": "fbbf5b1d-1e2a-415f-9bd4-4377ac28dc89",
   "metadata": {},
   "source": [
    "# File Handling"
   ]
  },
  {
   "cell_type": "markdown",
   "id": "321a76ea-4135-4d25-99f7-0ac47a5525e8",
   "metadata": {},
   "source": [
    "File open --> Read, write, append\n",
    "File create\n",
    "\n",
    "Mode\tDescription\n",
    "\n",
    "r\tOpens the file for reading (default).\n",
    "\n",
    "w\tOpens the file for writing (overwrites if the file exists).\n",
    "\n",
    "a\tOpens the file for appending (adds to the end of the file if it exists).\n",
    "\n",
    "r+\tOpens the file for both reading and writing.\n",
    "\n",
    "w+\tOpens the file for both writing and reading (overwrites if the file exists).\n",
    "\n",
    "a+\tOpens the file for both appending and reading.\n",
    "\n",
    "x\tCreates a new file. If the file already exists, the operation fails.\n",
    "\n",
    "t\tText mode (default).\n",
    "\n",
    "b\tBinary mode (used for non-text files like images).\n"
   ]
  },
  {
   "cell_type": "code",
   "execution_count": 4,
   "id": "6f17b1e0-9665-4f4b-bb57-a92e01d61d92",
   "metadata": {},
   "outputs": [
    {
     "name": "stdout",
     "output_type": "stream",
     "text": [
      "this is a sample text file!\n"
     ]
    }
   ],
   "source": [
    "#open function \n",
    "#mode specify -->\n",
    "#open(file path,mode)\n",
    "#r'I:\\Entri\\Python\\workspace' --> This will not work without r\n",
    "#I:\\\\Entri\\\\Python\\\\workspace\n",
    "#I:/Entri/Python/workspace\n",
    "#to read --> read(), deadline()\n",
    "#method 1\n",
    "file = open('sample.txt','r')\n",
    "content = file.read()\n",
    "print(content)\n",
    "file.close()"
   ]
  },
  {
   "cell_type": "code",
   "execution_count": 14,
   "id": "b1594e95-4c1a-4566-9e59-e20ef293efe2",
   "metadata": {},
   "outputs": [
    {
     "name": "stdout",
     "output_type": "stream",
     "text": [
      "this is new line \n",
      "this is another line \n",
      "\n"
     ]
    }
   ],
   "source": [
    "#method 2  - using with\n",
    "with open('sample.txt','r') as file:\n",
    "    content = file.read()\n",
    "    print(content)"
   ]
  },
  {
   "cell_type": "code",
   "execution_count": 8,
   "id": "4a648f7a-c028-482c-b85d-31292f1e029f",
   "metadata": {},
   "outputs": [
    {
     "name": "stdout",
     "output_type": "stream",
     "text": [
      "data written to the file successfully\n"
     ]
    }
   ],
   "source": [
    "# write and append\n",
    "# write means existing data will be replaced\n",
    "# append new data will be added to the existing data\n",
    "with open('sample.txt','w') as file:\n",
    "    file.write(\"this is new line \\n\")\n",
    "    print(\"data written to the file successfully\")\n"
   ]
  },
  {
   "cell_type": "code",
   "execution_count": 12,
   "id": "30f35835-4f56-47e8-8fa3-df578b85e6c7",
   "metadata": {},
   "outputs": [
    {
     "name": "stdout",
     "output_type": "stream",
     "text": [
      "data written to the file successfully\n"
     ]
    }
   ],
   "source": [
    "with open('sample.txt','a') as file:\n",
    "    file.write(\"this is another line \\n\")\n",
    "    print(\"data written to the file successfully\")"
   ]
  },
  {
   "cell_type": "code",
   "execution_count": 16,
   "id": "71841747-ba11-4798-b569-8e5b4a89ea57",
   "metadata": {},
   "outputs": [
    {
     "name": "stdout",
     "output_type": "stream",
     "text": [
      "data written to the file successfully\n"
     ]
    }
   ],
   "source": [
    "with open('newfile.txt','w') as file:\n",
    "    file.write(\"this is new line \\n\")\n",
    "    print(\"data written to the file successfully\")"
   ]
  },
  {
   "cell_type": "code",
   "execution_count": 22,
   "id": "f1528673-54cc-4a96-a418-52ca4966e4ee",
   "metadata": {},
   "outputs": [
    {
     "name": "stdout",
     "output_type": "stream",
     "text": [
      "this is new line \n",
      "\n"
     ]
    }
   ],
   "source": [
    "with open('newfile.txt','r') as file:\n",
    "    content = file.read()\n",
    "    print(content)\n",
    "\n",
    "#........."
   ]
  },
  {
   "cell_type": "markdown",
   "id": "100dd7a8-ac80-4c95-9994-320cbf9a2e0e",
   "metadata": {},
   "source": [
    "Write a program to:\n",
    "\n",
    "1. Create a file student_data.txt and write the following lines:\n",
    "\n",
    "Name, Age, Grade\n",
    "\n",
    "John, 20, A\n",
    "\n",
    "Alice, 22, B\n",
    "\n",
    "\n",
    "2. Read and print the content of the file.\n",
    "\n",
    "3. Question 2: Append and Read Lines\n",
    "Write a program to:\n",
    "\n",
    "Append a new line Sam, 21, A+ to the file student_data.txt.\n",
    "Read and print all lines using readlines()."
   ]
  },
  {
   "cell_type": "markdown",
   "id": "98f60847-3c8a-474c-8840-003175b57f8b",
   "metadata": {},
   "source": [
    "# Exception Handling\n",
    "\n",
    "Key Components\n",
    "\n",
    "try: Block where you write code that might raise an exception.\n",
    "\n",
    "except: Block to handle the exception if one occurs.\n",
    "\n",
    "else: Block to execute if no exception occurs.\n",
    "\n",
    "finally: Block that always executes, regardless of whether an exception occurs or not.\n"
   ]
  },
  {
   "cell_type": "code",
   "execution_count": 43,
   "id": "2d93c22f-9ee4-4d61-bc34-78dcf2e873a0",
   "metadata": {},
   "outputs": [
    {
     "name": "stdin",
     "output_type": "stream",
     "text": [
      "Enter a number Entri\n"
     ]
    },
    {
     "ename": "ValueError",
     "evalue": "invalid literal for int() with base 10: 'Entri'",
     "output_type": "error",
     "traceback": [
      "\u001b[1;31m---------------------------------------------------------------------------\u001b[0m",
      "\u001b[1;31mValueError\u001b[0m                                Traceback (most recent call last)",
      "Cell \u001b[1;32mIn[43], line 1\u001b[0m\n\u001b[1;32m----> 1\u001b[0m number\u001b[38;5;241m=\u001b[39m\u001b[38;5;28;43mint\u001b[39;49m\u001b[43m(\u001b[49m\u001b[38;5;28;43minput\u001b[39;49m\u001b[43m(\u001b[49m\u001b[38;5;124;43m\"\u001b[39;49m\u001b[38;5;124;43mEnter a number\u001b[39;49m\u001b[38;5;124;43m\"\u001b[39;49m\u001b[43m)\u001b[49m\u001b[43m)\u001b[49m\n\u001b[0;32m      2\u001b[0m \u001b[38;5;28mprint\u001b[39m(number) \n\u001b[0;32m      3\u001b[0m \u001b[38;5;66;03m#ValueError\u001b[39;00m\n",
      "\u001b[1;31mValueError\u001b[0m: invalid literal for int() with base 10: 'Entri'"
     ]
    }
   ],
   "source": [
    "number=int(input(\"Enter a number\"))\n",
    "print(number) \n",
    "#ValueError\n",
    "print(\"this is sample line\")"
   ]
  },
  {
   "cell_type": "code",
   "execution_count": 47,
   "id": "55d5e00b-b5e4-4d16-8b12-50f63a812f0e",
   "metadata": {},
   "outputs": [
    {
     "name": "stdin",
     "output_type": "stream",
     "text": [
      "Enter a number enrt\n"
     ]
    },
    {
     "name": "stdout",
     "output_type": "stream",
     "text": [
      "Error:you have entered a non integer value please enter a integer value\n",
      "this is important line runs regardless of error or not\n"
     ]
    }
   ],
   "source": [
    "try:\n",
    "    number=int(input(\"Enter a number\"))\n",
    "    print(number)\n",
    "except ValueError:\n",
    "    print(\"Error:you have entered a non integer value please enter a integer value\")\n",
    "else:\n",
    "    print(\"else block executed because no error in the try block\")\n",
    "finally:\n",
    "    print(\"this is important line runs regardless of error or not\")"
   ]
  },
  {
   "cell_type": "code",
   "execution_count": 51,
   "id": "52ac7e55-35c6-4803-8d73-c6354bfb4fbc",
   "metadata": {},
   "outputs": [
    {
     "name": "stdout",
     "output_type": "stream",
     "text": [
      "file not found check the file name\n",
      "runs all time\n"
     ]
    }
   ],
   "source": [
    "try:\n",
    "    with open('newfile2.txt','r') as file:\n",
    "        content = file.read()\n",
    "        print(content)\n",
    "except FileNotFoundError:\n",
    "    print(\"file not found check the file name\")\n",
    "except ValueError:\n",
    "    print(\"Error:you have entered a non integer value please enter a integer value\")\n",
    "finally:\n",
    "    print(\"runs all time\")"
   ]
  },
  {
   "cell_type": "markdown",
   "id": "7c418b18-45e9-4a63-bd77-5ee560fee099",
   "metadata": {},
   "source": [
    "try:\n",
    "    with open('newfile2.txt','r') as file:\n",
    "        content = file.read()\n",
    "        print(content)\n",
    "except Exception as e:\n",
    "    print(\"Error:\",e)\n",
    "finally:\n",
    "    print(\"runs all time\")"
   ]
  },
  {
   "cell_type": "markdown",
   "id": "6f017174-f999-496c-9f08-a5160dfe3206",
   "metadata": {},
   "source": [
    "# Menu Driven Program"
   ]
  },
  {
   "cell_type": "code",
   "execution_count": 56,
   "id": "36911ed2-164d-41f5-b93e-d3867ceb99a2",
   "metadata": {},
   "outputs": [],
   "source": [
    "#functions, file handling, while \n",
    "'''\n",
    "Display Menu:\n",
    "File Operation Menu\n",
    "1. Create a new file\n",
    "2. Read a file\n",
    "3. Append to a file\n",
    "4. Write (overwrite) a file\n",
    "5. Exit\n",
    "Enter your choice between 1 to 5:\n",
    "\n",
    "'''"
   ]
  },
  {
   "cell_type": "code",
   "execution_count": 74,
   "id": "0001c653-d17a-4b08-b7d8-fd7ad316d40e",
   "metadata": {},
   "outputs": [],
   "source": [
    "# create the functions\n",
    "# get the file name from the user\n",
    "def create_file():\n",
    "    ''' This function creates a new file and writes the data into the file given by the user!'''\n",
    "    file_name=input(\"Enter the file name with extension 'ex:sample.txt':\")\n",
    "    try:\n",
    "        with open(file_name,\"w\") as file:\n",
    "            #get the data from the user to write into the file\n",
    "            data=input(\"Enter the data: \")\n",
    "            file.write(data)\n",
    "        print(f\"File {file_name} created successfully!\")\n",
    "    except Exception as e:\n",
    "        print(\"Error:\",e)\n",
    "        \n",
    "\n",
    "\n",
    "def read_file():\n",
    "    file_name=input(\"Enter the file name with extension 'ex:sample.txt':\")\n",
    "    try:\n",
    "        with open(file_name,'r') as file:\n",
    "            content = file.read()\n",
    "            print(content)\n",
    "    except Exception as e:\n",
    "        print(\"Error:\",e)\n",
    "    \n",
    "\n",
    "\n",
    "def append_to_file():\n",
    "    print(\"Yet to be implemented\")\n",
    "\n",
    "def write_to_file():\n",
    "    print(\"Yet to be implemented\")\n",
    "\n",
    "\n"
   ]
  },
  {
   "cell_type": "code",
   "execution_count": 60,
   "id": "e8a288ce-6c19-4fb0-96fa-685995a988cf",
   "metadata": {},
   "outputs": [
    {
     "name": "stdin",
     "output_type": "stream",
     "text": [
      "Enter the file name with extension 'ex:sample.txt': menufile.txt\n",
      "Enter the data:  this is a data given during live session!\n"
     ]
    },
    {
     "name": "stdout",
     "output_type": "stream",
     "text": [
      "File menufile.txt created successfully!\n"
     ]
    }
   ],
   "source": [
    "create_file()"
   ]
  },
  {
   "cell_type": "code",
   "execution_count": 72,
   "id": "e1c7fe86-e67d-4144-bffa-66ff3f521f9e",
   "metadata": {},
   "outputs": [
    {
     "name": "stdin",
     "output_type": "stream",
     "text": [
      "Enter the file name with extension 'ex:sample.txt': file.txt\n"
     ]
    },
    {
     "name": "stdout",
     "output_type": "stream",
     "text": [
      "Error: [Errno 2] No such file or directory: 'file.txt'\n"
     ]
    }
   ],
   "source": [
    "read_file()"
   ]
  },
  {
   "cell_type": "code",
   "execution_count": 84,
   "id": "c9377edf-850e-45a9-9b2b-a87611feec3b",
   "metadata": {},
   "outputs": [],
   "source": [
    "#Menu program\n",
    "\n",
    "#functions, file handling, while \n",
    "'''\n",
    "Display Menu:\n",
    "File Operation Menu\n",
    "1. Create a new file\n",
    "2. Read a file\n",
    "3. Append to a file\n",
    "4. Write (overwrite) a file\n",
    "5. Exit\n",
    "Enter your choice between 1 to 5:\n",
    "\n",
    "'''\n",
    "\n",
    "def file_operations_menu():\n",
    "    ''' this function has different menu options to call the respective file functions'''\n",
    "    while True:\n",
    "        print(\"File Operation Menu:\")\n",
    "        print(\"1. Create a new file\")\n",
    "        print(\"2. Read a file\")\n",
    "        print(\"3. Append to a file\")\n",
    "        print(\"4. Write (overwrite) a file\")\n",
    "        print(\"5. Exit\")\n",
    "        try:\n",
    "            choice= int(input(\"Enter your choice between 1 to 5:\"))\n",
    "            if choice == 1:\n",
    "                create_file()\n",
    "            elif choice ==2:\n",
    "                read_file()\n",
    "            elif choice ==3:\n",
    "                append_to_file()\n",
    "            elif choice == 4:\n",
    "                write_to_file()\n",
    "            elif choice== 5:\n",
    "                print(\"Thank you!\")\n",
    "                break\n",
    "            else:\n",
    "                print(\"Please enter the choice between 1 to 5\")                   \n",
    "        except ValueError:\n",
    "            print(\"Error in the input\")"
   ]
  },
  {
   "cell_type": "code",
   "execution_count": 92,
   "id": "88f845bd-f7b3-4bba-ad1c-243191e32393",
   "metadata": {},
   "outputs": [
    {
     "name": "stdout",
     "output_type": "stream",
     "text": [
      "File Operation Menu:\n",
      "1. Create a new file\n",
      "2. Read a file\n",
      "3. Append to a file\n",
      "4. Write (overwrite) a file\n",
      "5. Exit\n"
     ]
    },
    {
     "name": "stdin",
     "output_type": "stream",
     "text": [
      "Enter your choice between 1 to 5: entri\n"
     ]
    },
    {
     "name": "stdout",
     "output_type": "stream",
     "text": [
      "Error in the input\n",
      "File Operation Menu:\n",
      "1. Create a new file\n",
      "2. Read a file\n",
      "3. Append to a file\n",
      "4. Write (overwrite) a file\n",
      "5. Exit\n"
     ]
    },
    {
     "name": "stdin",
     "output_type": "stream",
     "text": [
      "Enter your choice between 1 to 5: 5\n"
     ]
    },
    {
     "name": "stdout",
     "output_type": "stream",
     "text": [
      "Thank you!\n"
     ]
    }
   ],
   "source": [
    "file_operations_menu()"
   ]
  },
  {
   "cell_type": "code",
   "execution_count": 88,
   "id": "cc542f82-7a70-4ec2-8a70-bd9a2bdbf3b6",
   "metadata": {},
   "outputs": [],
   "source": [
    "def file_operations_menu2():\n",
    "    ''' this function has different menu options to call the respective file functions'''\n",
    "    while True:\n",
    "        print(\"File Operation Menu:\")\n",
    "        print(\"1. Create a new file\")\n",
    "        print(\"2. Read a file\")\n",
    "        print(\"3. Append to a file\")\n",
    "        print(\"4. Write (overwrite) a file\")\n",
    "        print(\"5. Exit\")\n",
    "        choice= int(input(\"Enter your choice between 1 to 5:\"))\n",
    "        if choice == 1:\n",
    "            create_file()\n",
    "        elif choice ==2:\n",
    "            read_file()\n",
    "        elif choice ==3:\n",
    "            append_to_file()\n",
    "        elif choice == 4:\n",
    "            write_to_file()\n",
    "        elif choice== 5:\n",
    "            print(\"Thank you!\")\n",
    "            break\n",
    "        else:\n",
    "            print(\"Please enter the choice between 1 to 5\")                   "
   ]
  },
  {
   "cell_type": "code",
   "execution_count": 90,
   "id": "c9d8b1eb-f95f-4af1-aa34-4ac63ed2972c",
   "metadata": {},
   "outputs": [
    {
     "name": "stdout",
     "output_type": "stream",
     "text": [
      "File Operation Menu:\n",
      "1. Create a new file\n",
      "2. Read a file\n",
      "3. Append to a file\n",
      "4. Write (overwrite) a file\n",
      "5. Exit\n"
     ]
    },
    {
     "name": "stdin",
     "output_type": "stream",
     "text": [
      "Enter your choice between 1 to 5: entri\n"
     ]
    },
    {
     "ename": "ValueError",
     "evalue": "invalid literal for int() with base 10: 'entri'",
     "output_type": "error",
     "traceback": [
      "\u001b[1;31m---------------------------------------------------------------------------\u001b[0m",
      "\u001b[1;31mValueError\u001b[0m                                Traceback (most recent call last)",
      "Cell \u001b[1;32mIn[90], line 1\u001b[0m\n\u001b[1;32m----> 1\u001b[0m \u001b[43mfile_operations_menu2\u001b[49m\u001b[43m(\u001b[49m\u001b[43m)\u001b[49m\n",
      "Cell \u001b[1;32mIn[88], line 10\u001b[0m, in \u001b[0;36mfile_operations_menu2\u001b[1;34m()\u001b[0m\n\u001b[0;32m      8\u001b[0m \u001b[38;5;28mprint\u001b[39m(\u001b[38;5;124m\"\u001b[39m\u001b[38;5;124m4. Write (overwrite) a file\u001b[39m\u001b[38;5;124m\"\u001b[39m)\n\u001b[0;32m      9\u001b[0m \u001b[38;5;28mprint\u001b[39m(\u001b[38;5;124m\"\u001b[39m\u001b[38;5;124m5. Exit\u001b[39m\u001b[38;5;124m\"\u001b[39m)\n\u001b[1;32m---> 10\u001b[0m choice\u001b[38;5;241m=\u001b[39m \u001b[38;5;28;43mint\u001b[39;49m\u001b[43m(\u001b[49m\u001b[38;5;28;43minput\u001b[39;49m\u001b[43m(\u001b[49m\u001b[38;5;124;43m\"\u001b[39;49m\u001b[38;5;124;43mEnter your choice between 1 to 5:\u001b[39;49m\u001b[38;5;124;43m\"\u001b[39;49m\u001b[43m)\u001b[49m\u001b[43m)\u001b[49m\n\u001b[0;32m     11\u001b[0m \u001b[38;5;28;01mif\u001b[39;00m choice \u001b[38;5;241m==\u001b[39m \u001b[38;5;241m1\u001b[39m:\n\u001b[0;32m     12\u001b[0m     create_file()\n",
      "\u001b[1;31mValueError\u001b[0m: invalid literal for int() with base 10: 'entri'"
     ]
    }
   ],
   "source": [
    "file_operations_menu2()"
   ]
  },
  {
   "cell_type": "code",
   "execution_count": null,
   "id": "ebfe188a-53fc-47b0-84b2-01ec5fe284d2",
   "metadata": {},
   "outputs": [],
   "source": []
  }
 ],
 "metadata": {
  "kernelspec": {
   "display_name": "Python 3 (ipykernel)",
   "language": "python",
   "name": "python3"
  },
  "language_info": {
   "codemirror_mode": {
    "name": "ipython",
    "version": 3
   },
   "file_extension": ".py",
   "mimetype": "text/x-python",
   "name": "python",
   "nbconvert_exporter": "python",
   "pygments_lexer": "ipython3",
   "version": "3.12.7"
  }
 },
 "nbformat": 4,
 "nbformat_minor": 5
}
